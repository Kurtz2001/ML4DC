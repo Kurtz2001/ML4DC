{
 "cells": [
  {
   "cell_type": "code",
   "execution_count": 1,
   "metadata": {},
   "outputs": [],
   "source": [
    "# Import libraries\n",
    "import os"
   ]
  },
  {
   "cell_type": "code",
   "execution_count": 2,
   "metadata": {},
   "outputs": [
    {
     "name": "stdout",
     "output_type": "stream",
     "text": [
      "setGPU: Setting GPU to: 5\n"
     ]
    }
   ],
   "source": [
    "if os.environ.get(\"USE_GPU\"):\n",
    "    import setGPU"
   ]
  },
  {
   "cell_type": "code",
   "execution_count": 3,
   "metadata": {
    "scrolled": false
   },
   "outputs": [
    {
     "name": "stderr",
     "output_type": "stream",
     "text": [
      "/afs/cern.ch/user/m/mantydze/.conda/envs/my_env/lib/python3.6/site-packages/h5py/__init__.py:36: FutureWarning: Conversion of the second argument of issubdtype from `float` to `np.floating` is deprecated. In future, it will be treated as `np.float64 == np.dtype(float).type`.\n",
      "  from ._conv import register_converters as _register_converters\n"
     ]
    }
   ],
   "source": [
    "import json\n",
    "import timeit\n",
    "import h5py\n",
    "import numpy as np\n",
    "import pandas as pd\n",
    "import matplotlib.pyplot as plt\n",
    "from scipy import interp\n",
    "\n",
    "# sklearn\n",
    "from sklearn.model_selection import StratifiedKFold, train_test_split\n",
    "from sklearn.preprocessing import StandardScaler\n",
    "from sklearn.metrics import confusion_matrix, accuracy_score, roc_curve, auc, f1_score\n",
    "from sklearn.utils import class_weight\n",
    "from sklearn.externals import joblib"
   ]
  },
  {
   "cell_type": "code",
   "execution_count": 4,
   "metadata": {},
   "outputs": [],
   "source": [
    "# Configuration\n",
    "\n",
    "data_base = \"/home/mantydze/data\" # no trailing slash"
   ]
  },
  {
   "cell_type": "code",
   "execution_count": 5,
   "metadata": {},
   "outputs": [
    {
     "name": "stdout",
     "output_type": "stream",
     "text": [
      "········\n"
     ]
    }
   ],
   "source": [
    "if os.environ.get(\"USE_EOS\"):\n",
    "    import getpass\n",
    "    \n",
    "    data_base = \"/eos/user/m/mantydze/data\" # no trailing slash\n",
    "    \n",
    "    #Authenticate in order to get permission for eos\n",
    "    os.system(\"echo %s | kinit\" % getpass.getpass())"
   ]
  },
  {
   "cell_type": "code",
   "execution_count": 6,
   "metadata": {},
   "outputs": [
    {
     "name": "stdout",
     "output_type": "stream",
     "text": [
      "(163684, 2813)\n"
     ]
    }
   ],
   "source": [
    "# Read the dataset\n",
    "\n",
    "filename = \"{data_base}/JetHT2016_single/JetHT2016.h5\".format(data_base=data_base)\n",
    "\n",
    "dset = None\n",
    "\n",
    "with h5py.File(filename, \"r\") as f:\n",
    "    dset = f[\"JetHT2016\"][:]   # All rows\n",
    "        \n",
    "print(dset.shape)\n",
    "# dset=dset[::2]\n",
    "# print(dset.shape)"
   ]
  },
  {
   "cell_type": "code",
   "execution_count": 7,
   "metadata": {},
   "outputs": [],
   "source": [
    "# Feature extraction\n",
    "\n",
    "# Feature 2807 - Run number\n",
    "# Feature 2808 - Lumisection number\n",
    "\n",
    "#sort by run number and lumisection\n",
    "dset = dset[np.lexsort((dset[:, 2808], dset[:, 2807]))]\n",
    "\n",
    "# Features\n",
    "X = dset[:, :2807] # 2807 features\n",
    "\n",
    "# Target\n",
    "y = dset[:, 2812]"
   ]
  },
  {
   "cell_type": "code",
   "execution_count": 8,
   "metadata": {},
   "outputs": [
    {
     "name": "stdout",
     "output_type": "stream",
     "text": [
      "Class [0] Count [3041]\n",
      "Class [1] Count [160643]\n"
     ]
    }
   ],
   "source": [
    "# Class balance\n",
    "def print_unique(values):\n",
    "    unique, counts = np.unique(values, return_counts=True)\n",
    "\n",
    "    for cls, cnt in zip(unique, counts):\n",
    "        print(\"Class [%d] Count [%d]\" % (cls, cnt))\n",
    "        \n",
    "print_unique(y)"
   ]
  },
  {
   "cell_type": "code",
   "execution_count": 9,
   "metadata": {},
   "outputs": [],
   "source": [
    "def print_split_info(X_train, y_train, X_test, y_test):\n",
    "    \n",
    "    # Train class balance\n",
    "    unique, counts = np.unique(y_train, return_counts=True)\n",
    "    train_balance = {int(k): v for k, v in zip(unique, counts)}\n",
    "    \n",
    "    # Test class balance\n",
    "    unique, counts = np.unique(y_test, return_counts=True)\n",
    "    test_balance = {int(k): v for k, v in zip(unique, counts)}\n",
    "    \n",
    "    # Train class weights\n",
    "    classes = np.unique(y_train)\n",
    "    weights = class_weight.compute_class_weight('balanced', classes, y_train)\n",
    "    cw = {int(k): round(v, 2) for k, v in zip(classes, weights)}\n",
    "    \n",
    "    print(\"Train: size %d\\t balance %s\\t weights %s\" % (len(X_train), train_balance, cw))\n",
    "    print(\"Test : size %d\\t balance %s\" % (len(X_test), test_balance))"
   ]
  },
  {
   "cell_type": "markdown",
   "metadata": {},
   "source": [
    "### Import model related libraries"
   ]
  },
  {
   "cell_type": "code",
   "execution_count": 10,
   "metadata": {},
   "outputs": [],
   "source": [
    "# Boosted trees classifier\n",
    "from xgboost import XGBClassifier"
   ]
  },
  {
   "cell_type": "markdown",
   "metadata": {},
   "source": [
    "### Train"
   ]
  },
  {
   "cell_type": "code",
   "execution_count": 11,
   "metadata": {},
   "outputs": [],
   "source": [
    "def train(X_train, y_train, verbose=True, **options):\n",
    "    \"\"\" Returns trained model\n",
    "    \"\"\"\n",
    "    start_time = timeit.default_timer()\n",
    "    \n",
    "    # Calculate class weights of Training set\n",
    "    classes = np.unique(y_train)\n",
    "    weights = class_weight.compute_class_weight('balanced', classes, y_train)\n",
    "    cw = {int(cls): weight for cls, weight in zip(classes, weights)}\n",
    "    \n",
    "    # Model code starts here\n",
    "    ############\n",
    "    \n",
    "    params = {\n",
    "        \"max_depth\": 7, \n",
    "        \"n_estimators\": 64, \n",
    "        \"tree_method\": \"gpu_hist\", \n",
    "        \"predictor\": \"gpu_predictor\"\n",
    "    }\n",
    "    \n",
    "    model = XGBClassifier(**params)\n",
    "    \n",
    "    # Train\n",
    "    model.fit(X_train, y_train)\n",
    "    \n",
    "    ############\n",
    "    # Model code ends here\n",
    "    \n",
    "    elapsed = timeit.default_timer() - start_time\n",
    "    if verbose:\n",
    "        print(\"Train time: %.1f s\" % (elapsed))\n",
    "    return model\n",
    "    "
   ]
  },
  {
   "cell_type": "markdown",
   "metadata": {},
   "source": [
    "### Evaluate"
   ]
  },
  {
   "cell_type": "code",
   "execution_count": 12,
   "metadata": {},
   "outputs": [],
   "source": [
    "def evaluate(model, X_test, y_test):\n",
    "    \n",
    "    # Accuracy and f1_score\n",
    "    y_pred = model.predict(X_test)\n",
    "    \n",
    "    print(confusion_matrix(y_test, y_pred))\n",
    "        \n",
    "    acc = accuracy_score(y_test, y_pred)\n",
    "    f1 = f1_score(y_test, y_pred)\n",
    "    \n",
    "    accs.append(acc)\n",
    "    f1s.append(f1)\n",
    "    \n",
    "    roc_auc = -1\n",
    "    if acc < 1:\n",
    "\n",
    "        # ROC AUC\n",
    "        y_probas = model.predict_proba(X_test)[:, 1]\n",
    "        fpr, tpr, _ = roc_curve(y_test, y_probas)\n",
    "        roc_auc = auc(fpr, tpr)\n",
    "\n",
    "        aucs.append(roc_auc)\n",
    "        fprs.append(fpr)\n",
    "        tprs.append(tpr)\n",
    "        \n",
    "    print(\"acc: %.3f | f1: %.3f | auc: %.3f\" % (acc, f1, roc_auc))"
   ]
  },
  {
   "cell_type": "markdown",
   "metadata": {},
   "source": [
    "### Train & evaluate"
   ]
  },
  {
   "cell_type": "code",
   "execution_count": 13,
   "metadata": {},
   "outputs": [],
   "source": [
    "n_splits = 10\n",
    "\n",
    "accs = []\n",
    "f1s = []\n",
    "\n",
    "fprs = []\n",
    "tprs = []\n",
    "aucs = []"
   ]
  },
  {
   "cell_type": "code",
   "execution_count": 14,
   "metadata": {
    "scrolled": false
   },
   "outputs": [
    {
     "name": "stdout",
     "output_type": "stream",
     "text": [
      "Fold 1 / 10\n",
      "Train: size 16368\t balance {0: 585, 1: 15783}\t weights {0: 13.99, 1: 0.52}\n",
      "Test : size 147316\t balance {0: 2456, 1: 144860}\n",
      "Train time: 21.6 s\n"
     ]
    },
    {
     "name": "stderr",
     "output_type": "stream",
     "text": [
      "/afs/cern.ch/user/m/mantydze/.conda/envs/my_env/lib/python3.6/site-packages/sklearn/preprocessing/label.py:151: DeprecationWarning: The truth value of an empty array is ambiguous. Returning False, but in future this will result in an error. Use `array.size > 0` to check that an array is not empty.\n",
      "  if diff:\n"
     ]
    },
    {
     "name": "stdout",
     "output_type": "stream",
     "text": [
      "[[   534   1922]\n",
      " [   405 144455]]\n",
      "acc: 0.984 | f1: 0.992 | auc: 0.881\n",
      "\n",
      "Fold 2 / 10\n",
      "Train: size 32736\t balance {0: 732, 1: 32004}\t weights {0: 22.36, 1: 0.51}\n",
      "Test : size 130948\t balance {0: 2309, 1: 128639}\n",
      "Train time: 28.8 s\n"
     ]
    },
    {
     "name": "stderr",
     "output_type": "stream",
     "text": [
      "/afs/cern.ch/user/m/mantydze/.conda/envs/my_env/lib/python3.6/site-packages/sklearn/preprocessing/label.py:151: DeprecationWarning: The truth value of an empty array is ambiguous. Returning False, but in future this will result in an error. Use `array.size > 0` to check that an array is not empty.\n",
      "  if diff:\n"
     ]
    },
    {
     "name": "stdout",
     "output_type": "stream",
     "text": [
      "[[   511   1798]\n",
      " [   130 128509]]\n",
      "acc: 0.985 | f1: 0.993 | auc: 0.858\n",
      "\n",
      "Fold 3 / 10\n",
      "Train: size 49105\t balance {0: 740, 1: 48365}\t weights {0: 33.18, 1: 0.51}\n",
      "Test : size 114579\t balance {0: 2301, 1: 112278}\n",
      "Train time: 43.1 s\n"
     ]
    },
    {
     "name": "stderr",
     "output_type": "stream",
     "text": [
      "/afs/cern.ch/user/m/mantydze/.conda/envs/my_env/lib/python3.6/site-packages/sklearn/preprocessing/label.py:151: DeprecationWarning: The truth value of an empty array is ambiguous. Returning False, but in future this will result in an error. Use `array.size > 0` to check that an array is not empty.\n",
      "  if diff:\n"
     ]
    },
    {
     "name": "stdout",
     "output_type": "stream",
     "text": [
      "[[   390   1911]\n",
      " [    57 112221]]\n",
      "acc: 0.983 | f1: 0.991 | auc: 0.747\n",
      "\n",
      "Fold 4 / 10\n",
      "Train: size 65473\t balance {0: 1424, 1: 64049}\t weights {0: 22.99, 1: 0.51}\n",
      "Test : size 98211\t balance {0: 1617, 1: 96594}\n",
      "Train time: 56.8 s\n"
     ]
    },
    {
     "name": "stderr",
     "output_type": "stream",
     "text": [
      "/afs/cern.ch/user/m/mantydze/.conda/envs/my_env/lib/python3.6/site-packages/sklearn/preprocessing/label.py:151: DeprecationWarning: The truth value of an empty array is ambiguous. Returning False, but in future this will result in an error. Use `array.size > 0` to check that an array is not empty.\n",
      "  if diff:\n"
     ]
    },
    {
     "name": "stdout",
     "output_type": "stream",
     "text": [
      "[[  386  1231]\n",
      " [  206 96388]]\n",
      "acc: 0.985 | f1: 0.993 | auc: 0.895\n",
      "\n",
      "Fold 5 / 10\n",
      "Train: size 81842\t balance {0: 1541, 1: 80301}\t weights {0: 26.55, 1: 0.51}\n",
      "Test : size 81842\t balance {0: 1500, 1: 80342}\n",
      "Train time: 67.3 s\n"
     ]
    },
    {
     "name": "stderr",
     "output_type": "stream",
     "text": [
      "/afs/cern.ch/user/m/mantydze/.conda/envs/my_env/lib/python3.6/site-packages/sklearn/preprocessing/label.py:151: DeprecationWarning: The truth value of an empty array is ambiguous. Returning False, but in future this will result in an error. Use `array.size > 0` to check that an array is not empty.\n",
      "  if diff:\n"
     ]
    },
    {
     "name": "stdout",
     "output_type": "stream",
     "text": [
      "[[  220  1280]\n",
      " [  112 80230]]\n",
      "acc: 0.983 | f1: 0.991 | auc: 0.954\n",
      "\n",
      "Fold 6 / 10\n",
      "Train: size 98210\t balance {0: 1652, 1: 96558}\t weights {0: 29.72, 1: 0.51}\n",
      "Test : size 65474\t balance {0: 1389, 1: 64085}\n",
      "Train time: 86.6 s\n"
     ]
    },
    {
     "name": "stderr",
     "output_type": "stream",
     "text": [
      "/afs/cern.ch/user/m/mantydze/.conda/envs/my_env/lib/python3.6/site-packages/sklearn/preprocessing/label.py:151: DeprecationWarning: The truth value of an empty array is ambiguous. Returning False, but in future this will result in an error. Use `array.size > 0` to check that an array is not empty.\n",
      "  if diff:\n"
     ]
    },
    {
     "name": "stdout",
     "output_type": "stream",
     "text": [
      "[[  564   825]\n",
      " [  105 63980]]\n",
      "acc: 0.986 | f1: 0.993 | auc: 0.901\n",
      "\n",
      "Fold 7 / 10\n",
      "Train: size 114578\t balance {0: 1772, 1: 112806}\t weights {0: 32.33, 1: 0.51}\n",
      "Test : size 49106\t balance {0: 1269, 1: 47837}\n",
      "Train time: 93.0 s\n"
     ]
    },
    {
     "name": "stderr",
     "output_type": "stream",
     "text": [
      "/afs/cern.ch/user/m/mantydze/.conda/envs/my_env/lib/python3.6/site-packages/sklearn/preprocessing/label.py:151: DeprecationWarning: The truth value of an empty array is ambiguous. Returning False, but in future this will result in an error. Use `array.size > 0` to check that an array is not empty.\n",
      "  if diff:\n"
     ]
    },
    {
     "name": "stdout",
     "output_type": "stream",
     "text": [
      "[[  520   749]\n",
      " [   46 47791]]\n",
      "acc: 0.984 | f1: 0.992 | auc: 0.950\n",
      "\n",
      "Fold 8 / 10\n",
      "Train: size 130947\t balance {0: 2380, 1: 128567}\t weights {0: 27.51, 1: 0.51}\n",
      "Test : size 32737\t balance {0: 661, 1: 32076}\n",
      "Train time: 109.6 s\n"
     ]
    },
    {
     "name": "stderr",
     "output_type": "stream",
     "text": [
      "/afs/cern.ch/user/m/mantydze/.conda/envs/my_env/lib/python3.6/site-packages/sklearn/preprocessing/label.py:151: DeprecationWarning: The truth value of an empty array is ambiguous. Returning False, but in future this will result in an error. Use `array.size > 0` to check that an array is not empty.\n",
      "  if diff:\n"
     ]
    },
    {
     "name": "stdout",
     "output_type": "stream",
     "text": [
      "[[  496   165]\n",
      " [   50 32026]]\n",
      "acc: 0.993 | f1: 0.997 | auc: 0.983\n",
      "\n",
      "Fold 9 / 10\n",
      "Train: size 147315\t balance {0: 2994, 1: 144321}\t weights {0: 24.6, 1: 0.51}\n",
      "Test : size 16369\t balance {0: 47, 1: 16322}\n",
      "Train time: 125.1 s\n"
     ]
    },
    {
     "name": "stderr",
     "output_type": "stream",
     "text": [
      "/afs/cern.ch/user/m/mantydze/.conda/envs/my_env/lib/python3.6/site-packages/sklearn/preprocessing/label.py:151: DeprecationWarning: The truth value of an empty array is ambiguous. Returning False, but in future this will result in an error. Use `array.size > 0` to check that an array is not empty.\n",
      "  if diff:\n"
     ]
    },
    {
     "name": "stdout",
     "output_type": "stream",
     "text": [
      "[[   39     8]\n",
      " [   62 16260]]\n",
      "acc: 0.996 | f1: 0.998 | auc: 0.908\n",
      "\n",
      "CPU times: user 10min 3s, sys: 3min 8s, total: 13min 11s\n",
      "Wall time: 13min 17s\n"
     ]
    }
   ],
   "source": [
    "%%time\n",
    "for i in range(1, n_splits):\n",
    "    print(\"Fold %d / %d\" % (i, n_splits))\n",
    "    \n",
    "    X_train = X_test = y_train = y_test = None # Release memory\n",
    "    \n",
    "    X_train, X_test, y_train, y_test = train_test_split(X, y, test_size=(1 - (1.0/n_splits)*i), shuffle=False)\n",
    "    \n",
    "    print_split_info(X_train, y_train, X_test, y_test)\n",
    "    \n",
    "    # Feature scaling\n",
    "    sc = StandardScaler(copy=False)\n",
    "    X_train = sc.fit_transform(X_train)\n",
    "    X_test = sc.transform(X_test)\n",
    "\n",
    "    model = train(X_train, y_train)\n",
    "    evaluate(model, X_test, y_test)\n",
    "    model = None # Release memory\n",
    "    print()\n",
    "    "
   ]
  },
  {
   "cell_type": "markdown",
   "metadata": {},
   "source": [
    "### Aggregate scores"
   ]
  },
  {
   "cell_type": "code",
   "execution_count": 15,
   "metadata": {},
   "outputs": [],
   "source": [
    "d = dict(acc=np.array(accs), f1=np.array(f1s), auc=np.array(aucs))\n",
    "scores = pd.DataFrame.from_dict(d, orient=\"index\")\n",
    "scores[\"mean\"] = scores.mean(axis=1)\n",
    "scores[\"std\"] = scores.std(axis=1)"
   ]
  },
  {
   "cell_type": "code",
   "execution_count": 16,
   "metadata": {},
   "outputs": [
    {
     "name": "stdout",
     "output_type": "stream",
     "text": [
      "           acc        f1       auc\n",
      "0     0.984204  0.992010  0.881069\n",
      "1     0.985277  0.992554  0.858455\n",
      "2     0.982824  0.991308  0.746731\n",
      "3     0.985368  0.992601  0.895345\n",
      "4     0.982992  0.991400  0.954392\n",
      "5     0.985796  0.992785  0.900899\n",
      "6     0.983811  0.991751  0.950203\n",
      "7     0.993433  0.996655  0.982843\n",
      "8     0.995724  0.997852  0.908274\n",
      "mean  0.986603  0.993213  0.897579\n",
      "std   0.004405  0.002233  0.064941\n"
     ]
    }
   ],
   "source": [
    "print(scores.transpose())"
   ]
  },
  {
   "cell_type": "code",
   "execution_count": 17,
   "metadata": {},
   "outputs": [],
   "source": [
    "scores.to_csv(\"scores.csv\")"
   ]
  },
  {
   "cell_type": "markdown",
   "metadata": {},
   "source": [
    "### Plot ROC AUC"
   ]
  },
  {
   "cell_type": "code",
   "execution_count": 18,
   "metadata": {},
   "outputs": [
    {
     "name": "stderr",
     "output_type": "stream",
     "text": [
      "/afs/cern.ch/user/m/mantydze/.conda/envs/my_env/lib/python3.6/site-packages/matplotlib/cbook/__init__.py:2446: UserWarning: Saw kwargs ['lw', 'linewidth'] which are all aliases for 'linewidth'.  Kept value from 'linewidth'\n",
      "  seen=seen, canon=canonical, used=seen[-1]))\n"
     ]
    },
    {
     "data": {
      "image/png": "[encoded data removed]",
      "text/plain": [
       "<Figure size 720x720 with 1 Axes>"
      ]
     },
     "metadata": {},
     "output_type": "display_data"
    }
   ],
   "source": [
    "plt.figure(figsize=(10,10))\n",
    "\n",
    "for i, (fpr, tpr) in enumerate(zip(fprs, tprs)):\n",
    "    plt.plot(fpr, tpr, label=\"Fold %d (auc: %.3f)\" % ((i+1), aucs[i]), alpha=0.4)\n",
    "\n",
    "tprs2 = []\n",
    "\n",
    "mean_fpr = np.linspace(0, 1, 100)\n",
    "\n",
    "for fpr, tpr in zip(fprs, tprs):\n",
    "    tprs2.append(interp(mean_fpr, fpr, tpr))\n",
    "    \n",
    "mean_tpr = np.mean(tprs2, axis=0)\n",
    "mean_tpr[-1] = 1.0\n",
    "mean_auc = auc(mean_fpr, mean_tpr)\n",
    "std_auc = np.std(aucs)\n",
    "plt.plot(mean_fpr, mean_tpr, \n",
    "         color=\"b\",\n",
    "         linestyle=\":\",\n",
    "         linewidth=4,\n",
    "         label=r\"Mean ROC (AUC = %0.2f $\\pm$ %0.2f)\" % (mean_auc, std_auc),\n",
    "         lw=2, alpha=.9)\n",
    "\n",
    "plt.plot([0, 1], [0, 1], linestyle='--', lw=2, color='r', alpha=.5)\n",
    "\n",
    "plt.xlim([-0.05, 1.05])\n",
    "plt.ylim([-0.05, 1.05])\n",
    "plt.xlabel('False Positive Rate')\n",
    "plt.ylabel('True Positive Rate')\n",
    "plt.title('Receiver operating characteristic')\n",
    "plt.legend(loc=\"lower right\")\n",
    "plt.show()"
   ]
  },
  {
   "cell_type": "markdown",
   "metadata": {},
   "source": [
    "### Plot AUC"
   ]
  },
  {
   "cell_type": "code",
   "execution_count": 19,
   "metadata": {
    "scrolled": false
   },
   "outputs": [
    {
     "data": {
      "image/png": "[encoded data removed]",
      "text/plain": [
       "<Figure size 720x720 with 1 Axes>"
      ]
     },
     "metadata": {},
     "output_type": "display_data"
    }
   ],
   "source": [
    "plt.figure(figsize=(10,10))\n",
    "plt.grid()\n",
    "\n",
    "n_bars = len(aucs) + 1\n",
    "\n",
    "plt.axhline(y=mean_auc, color='b', linestyle=':', linewidth=4, label=\"Mean AUC\")\n",
    "\n",
    "xfolds = range(1, n_bars)\n",
    "\n",
    "plt.bar(xfolds, aucs)\n",
    "# add labels\n",
    "for xfold, xauc in zip(xfolds, aucs):\n",
    "    label = \"%.2f\" % xauc\n",
    "    plt.text(xfold, xauc, label)\n",
    "\n",
    "plt.yticks(np.arange(0, 1, 0.1))    \n",
    "plt.xticks(np.arange(0, n_bars, 1))    \n",
    "plt.xlabel(\"Training data  * {}%\".format(round(1/n_splits, 2)))\n",
    "plt.ylabel('AUC')\n",
    "plt.legend(loc=\"upper right\")\n",
    "plt.show()"
   ]
  },
  {
   "cell_type": "markdown",
   "metadata": {},
   "source": [
    "### Train and save model"
   ]
  },
  {
   "cell_type": "code",
   "execution_count": 20,
   "metadata": {},
   "outputs": [],
   "source": [
    "X_train = X_test = y_train = y_test = None # Release memory\n",
    "X_train, X_test, y_train, y_test = train_test_split(X, y, test_size=0.2, shuffle=False)"
   ]
  },
  {
   "cell_type": "code",
   "execution_count": 21,
   "metadata": {},
   "outputs": [],
   "source": [
    "# Feature scaling\n",
    "sc = StandardScaler(copy=False)\n",
    "X_train = sc.fit_transform(X_train)\n",
    "X_test = sc.transform(X_test)"
   ]
  },
  {
   "cell_type": "code",
   "execution_count": 22,
   "metadata": {},
   "outputs": [
    {
     "name": "stdout",
     "output_type": "stream",
     "text": [
      "Train time: 113.6 s\n"
     ]
    }
   ],
   "source": [
    "model = train(X_train, y_train)"
   ]
  },
  {
   "cell_type": "code",
   "execution_count": 23,
   "metadata": {},
   "outputs": [
    {
     "name": "stderr",
     "output_type": "stream",
     "text": [
      "/afs/cern.ch/user/m/mantydze/.conda/envs/my_env/lib/python3.6/site-packages/sklearn/preprocessing/label.py:151: DeprecationWarning: The truth value of an empty array is ambiguous. Returning False, but in future this will result in an error. Use `array.size > 0` to check that an array is not empty.\n",
      "  if diff:\n"
     ]
    },
    {
     "name": "stdout",
     "output_type": "stream",
     "text": [
      "[[  496   165]\n",
      " [   50 32026]]\n",
      "acc: 0.993 | f1: 0.997 | auc: 0.983\n"
     ]
    }
   ],
   "source": [
    "evaluate(model, X_test, y_test)"
   ]
  },
  {
   "cell_type": "code",
   "execution_count": 24,
   "metadata": {},
   "outputs": [
    {
     "data": {
      "text/plain": [
       "['model.dat']"
      ]
     },
     "execution_count": 24,
     "metadata": {},
     "output_type": "execute_result"
    }
   ],
   "source": [
    "joblib.dump(model, \"model.dat\")"
   ]
  },
  {
   "cell_type": "code",
   "execution_count": null,
   "metadata": {},
   "outputs": [],
   "source": []
  }
 ],
 "metadata": {
  "kernelspec": {
   "display_name": "Python 3",
   "language": "python",
   "name": "python3"
  },
  "language_info": {
   "codemirror_mode": {
    "name": "ipython",
    "version": 3
   },
   "file_extension": ".py",
   "mimetype": "text/x-python",
   "name": "python",
   "nbconvert_exporter": "python",
   "pygments_lexer": "ipython3",
   "version": "3.6.4"
  }
 },
 "nbformat": 4,
 "nbformat_minor": 2
}
