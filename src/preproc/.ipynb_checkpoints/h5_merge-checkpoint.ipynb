{
 "cells": [
  {
   "cell_type": "code",
   "execution_count": 1,
   "metadata": {},
   "outputs": [
    {
     "name": "stderr",
     "output_type": "stream",
     "text": [
      "/home/mantydze/.local/lib/python3.5/site-packages/h5py/__init__.py:36: FutureWarning: Conversion of the second argument of issubdtype from `float` to `np.floating` is deprecated. In future, it will be treated as `np.float64 == np.dtype(float).type`.\n",
      "  from ._conv import register_converters as _register_converters\n"
     ]
    }
   ],
   "source": [
    "import os\n",
    "import h5py"
   ]
  },
  {
   "cell_type": "code",
   "execution_count": 2,
   "metadata": {},
   "outputs": [],
   "source": [
    "# Init variables\n",
    "\n",
    "# Source directory of original h5 datasets\n",
    "data_src = \"/home/mantydze/data/JetHT2016_multi\" \n",
    "\n",
    "# Destinaton directory for updated h5 datasets\n",
    "data_dst = \"/home/mantydze/data/JetHT2016_single\" "
   ]
  },
  {
   "cell_type": "code",
   "execution_count": null,
   "metadata": {},
   "outputs": [
    {
     "name": "stdout",
     "output_type": "stream",
     "text": [
      "JetHT_D_bad.h5\n",
      "121\n",
      "JetHT_F_bad.h5\n",
      "70\n",
      "JetHT_G_good.h5\n",
      "40180\n"
     ]
    }
   ],
   "source": [
    "%%time\n",
    "\n",
    "with h5py.File(\"%s/JetHT2016.h5\" % (data_dst), \"w\") as main_h5:\n",
    "    main_dset = None\n",
    "\n",
    "    total_row_count = 0\n",
    "    for filename in os.listdir(data_src):\n",
    "        print(filename)\n",
    "        \n",
    "        f = h5py.File(\"%s/%s\" % (data_src, filename), \"r\")\n",
    "        sub_dset_name = filename.replace(\".h5\", \"\")\n",
    "        sub_dset = f[sub_dset_name]\n",
    "        sub_dset_rc = sub_dset.shape[0] # row count\n",
    "        \n",
    "        print(sub_dset_rc)\n",
    "        total_row_count += sub_dset_rc\n",
    "\n",
    "        if main_dset is None:\n",
    "            main_dset = main_h5.create_dataset(\"JetHT2016\", chunks=True, dtype=\"float64\", maxshape=(None, None), data=sub_dset[:], compression=\"gzip\", compression_opts=0)\n",
    "        else:\n",
    "            main_dset.resize(main_dset.shape[0] + sub_dset_rc, axis=0)\n",
    "            main_dset[-sub_dset_rc:] = sub_dset[:]\n",
    "        f.close()\n",
    "\n",
    "    print(\"Total row count: %d\" % total_row_count)\n",
    "    print(\"Main dset:\")\n",
    "    print(main_dset.shape)\n",
    "    "
   ]
  },
  {
   "cell_type": "code",
   "execution_count": null,
   "metadata": {},
   "outputs": [],
   "source": []
  }
 ],
 "metadata": {
  "kernelspec": {
   "display_name": "Python 3",
   "language": "python",
   "name": "python3"
  },
  "language_info": {
   "codemirror_mode": {
    "name": "ipython",
    "version": 3
   },
   "file_extension": ".py",
   "mimetype": "text/x-python",
   "name": "python",
   "nbconvert_exporter": "python",
   "pygments_lexer": "ipython3",
   "version": "3.5.2"
  }
 },
 "nbformat": 4,
 "nbformat_minor": 2
}
