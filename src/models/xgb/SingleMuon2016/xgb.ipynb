{
 "cells": [
  {
   "cell_type": "code",
   "execution_count": 1,
   "metadata": {
    "scrolled": false
   },
   "outputs": [],
   "source": [
    "# Import libraries\n",
    "import os\n",
    "\n",
    "# import functools\n",
    "# print = functools.partial(print, flush=True)"
   ]
  },
  {
   "cell_type": "code",
   "execution_count": 2,
   "metadata": {
    "scrolled": false
   },
   "outputs": [],
   "source": [
    "# if os.environ.get(\"USE_GPU\"):\n",
    "#     import setGPU"
   ]
  },
  {
   "cell_type": "code",
   "execution_count": 3,
   "metadata": {
    "scrolled": false
   },
   "outputs": [
    {
     "name": "stderr",
     "output_type": "stream",
     "text": [
      "/home/mantydze/anaconda3/lib/python3.6/site-packages/h5py/__init__.py:36: FutureWarning: Conversion of the second argument of issubdtype from `float` to `np.floating` is deprecated. In future, it will be treated as `np.float64 == np.dtype(float).type`.\n",
      "  from ._conv import register_converters as _register_converters\n"
     ]
    }
   ],
   "source": [
    "import json\n",
    "import timeit\n",
    "import h5py\n",
    "import numpy as np\n",
    "import pandas as pd\n",
    "import matplotlib.pyplot as plt\n",
    "from scipy import interp\n",
    "\n",
    "# sklearn\n",
    "from sklearn.model_selection import StratifiedShuffleSplit, train_test_split\n",
    "from sklearn.preprocessing import StandardScaler\n",
    "from sklearn.metrics import confusion_matrix, accuracy_score, roc_curve, auc, f1_score\n",
    "from sklearn.utils import class_weight\n",
    "from sklearn.externals import joblib"
   ]
  },
  {
   "cell_type": "code",
   "execution_count": 4,
   "metadata": {
    "scrolled": false
   },
   "outputs": [],
   "source": [
    "# Configuration\n",
    "\n",
    "data_base = \"/home/mantydze/data\" # no trailing slash"
   ]
  },
  {
   "cell_type": "code",
   "execution_count": 5,
   "metadata": {
    "scrolled": false
   },
   "outputs": [],
   "source": [
    "if os.environ.get(\"USE_EOS\"):\n",
    "    import getpass\n",
    "    \n",
    "    data_base = \"/eos/user/m/mantydze/data\" # no trailing slash\n",
    "    \n",
    "    #Authenticate in order to get permission for eos\n",
    "    os.system(\"echo %s | kinit\" % getpass.getpass())"
   ]
  },
  {
   "cell_type": "code",
   "execution_count": 6,
   "metadata": {
    "scrolled": false
   },
   "outputs": [
    {
     "name": "stdout",
     "output_type": "stream",
     "text": [
      "(154818, 2813)\n"
     ]
    }
   ],
   "source": [
    "# Read the dataset\n",
    "dset_name = \"SingleMuon2016\"\n",
    "\n",
    "filename = \"{data_base}/{dset_name}/single/{dset_name}.h5\".format(data_base=data_base, dset_name=dset_name)\n",
    "\n",
    "dset = None\n",
    "\n",
    "with h5py.File(filename, \"r\") as f:\n",
    "    dset = f[dset_name][:] \n",
    "        \n",
    "print(dset.shape)"
   ]
  },
  {
   "cell_type": "code",
   "execution_count": 7,
   "metadata": {
    "scrolled": false
   },
   "outputs": [],
   "source": [
    "# Feature extraction\n",
    "\n",
    "# Feature 2807 - Run number\n",
    "# Feature 2808 - Lumisection number\n",
    "\n",
    "# #sort by run number and lumisection\n",
    "# dset = dset[np.lexsort((dset[:, 2808], dset[:, 2807]))]\n",
    "\n",
    "# Features\n",
    "X = dset[:, :2807] # 2807 features\n",
    "\n",
    "# Target\n",
    "y = dset[:, 2812]\n",
    "\n",
    "dset = None"
   ]
  },
  {
   "cell_type": "code",
   "execution_count": 8,
   "metadata": {
    "scrolled": false
   },
   "outputs": [],
   "source": [
    "# Feature scaling\n",
    "\n",
    "X = StandardScaler(copy=False).fit_transform(X) # copy=False reduce memory usage"
   ]
  },
  {
   "cell_type": "code",
   "execution_count": 9,
   "metadata": {
    "scrolled": false
   },
   "outputs": [
    {
     "name": "stdout",
     "output_type": "stream",
     "text": [
      "Class [0] Count [2650]\n",
      "Class [1] Count [152168]\n"
     ]
    }
   ],
   "source": [
    "# Class balance\n",
    "def print_unique(values):\n",
    "    unique, counts = np.unique(values, return_counts=True)\n",
    "\n",
    "    for cls, cnt in zip(unique, counts):\n",
    "        print(\"Class [%d] Count [%d]\" % (cls, cnt))\n",
    "        \n",
    "print_unique(y)"
   ]
  },
  {
   "cell_type": "code",
   "execution_count": 10,
   "metadata": {},
   "outputs": [],
   "source": [
    "# Calculate class weights \n",
    "classes = np.unique(y)\n",
    "weights = class_weight.compute_class_weight('balanced', classes, y)\n",
    "cw = {int(cls): weight for cls, weight in zip(classes, weights)}"
   ]
  },
  {
   "cell_type": "code",
   "execution_count": 11,
   "metadata": {
    "scrolled": false
   },
   "outputs": [],
   "source": [
    "def print_split_info(X_train, y_train, X_test, y_test):\n",
    "    \n",
    "    # Train class balance\n",
    "    unique, counts = np.unique(y_train, return_counts=True)\n",
    "    train_balance = {int(k): v for k, v in zip(unique, counts)}\n",
    "    \n",
    "    # Test class balance\n",
    "    unique, counts = np.unique(y_test, return_counts=True)\n",
    "    test_balance = {int(k): v for k, v in zip(unique, counts)}\n",
    "    \n",
    "    # Train class weights\n",
    "    classes = np.unique(y_train)\n",
    "    weights = class_weight.compute_class_weight('balanced', classes, y_train)\n",
    "    cw = {int(k): round(v, 2) for k, v in zip(classes, weights)}\n",
    "    \n",
    "    print(\"Train: size %d\\t balance %s\\t weights %s\" % (len(X_train), train_balance, cw))\n",
    "    print(\"Test : size %d\\t balance %s\" % (len(X_test), test_balance))"
   ]
  },
  {
   "cell_type": "markdown",
   "metadata": {},
   "source": [
    "### Import model related libraries"
   ]
  },
  {
   "cell_type": "code",
   "execution_count": 12,
   "metadata": {
    "scrolled": false
   },
   "outputs": [],
   "source": [
    "# Boosted trees classifier\n",
    "from xgboost import XGBClassifier"
   ]
  },
  {
   "cell_type": "markdown",
   "metadata": {},
   "source": [
    "### Train"
   ]
  },
  {
   "cell_type": "code",
   "execution_count": 13,
   "metadata": {
    "scrolled": false
   },
   "outputs": [],
   "source": [
    "def train(X_train, y_train, verbose=True, **options):\n",
    "    \"\"\" Returns trained model\n",
    "    \"\"\"\n",
    "    start_time = timeit.default_timer()\n",
    "    \n",
    "    if verbose:\n",
    "        print(\"Training\", flush=True)\n",
    "    \n",
    "    # Model code starts here\n",
    "    ############\n",
    "    \n",
    "    params = {\n",
    "        \"max_depth\": 7, \n",
    "        \"n_estimators\": 64, \n",
    "#         \"tree_method\": \"gpu_hist\", \n",
    "#         \"predictor\": \"gpu_predictor\",\n",
    "        \"bin_size\": 64,\n",
    "        \"nthread\": 8\n",
    "    }\n",
    "    \n",
    "    model = XGBClassifier(**params)\n",
    "    \n",
    "    # Train\n",
    "    model.fit(X_train, y_train)\n",
    "    \n",
    "    ############\n",
    "    # Model code ends here\n",
    "    \n",
    "    elapsed = timeit.default_timer() - start_time\n",
    "    if verbose:\n",
    "        print(\"Train time: %.1f s\" % (elapsed))\n",
    "        \n",
    "    secs.append(elapsed)\n",
    "    \n",
    "    return model\n",
    "    "
   ]
  },
  {
   "cell_type": "markdown",
   "metadata": {},
   "source": [
    "### Evaluate"
   ]
  },
  {
   "cell_type": "code",
   "execution_count": 14,
   "metadata": {
    "scrolled": false
   },
   "outputs": [],
   "source": [
    "def evaluate(model, X_test, y_test, verbose=True):\n",
    "    \n",
    "    if verbose:\n",
    "        print(\"Evaluating\", flush=True)\n",
    "        \n",
    "    # Accuracy and f1_score\n",
    "    y_pred = model.predict(X_test)\n",
    "    \n",
    "    acc = accuracy_score(y_test, y_pred)\n",
    "    f1 = f1_score(y_test, y_pred)\n",
    "    \n",
    "    accs.append(acc)\n",
    "    f1s.append(f1)\n",
    "    \n",
    "    roc_auc = -1\n",
    "    if acc < 1:\n",
    "\n",
    "        # ROC AUC\n",
    "        y_probas = model.predict_proba(X_test)[:, 1]\n",
    "        fpr, tpr, _ = roc_curve(y_test, y_probas)\n",
    "        roc_auc = auc(fpr, tpr)\n",
    "\n",
    "        aucs.append(roc_auc)\n",
    "        fprs.append(fpr)\n",
    "        tprs.append(tpr)\n",
    "    \n",
    "    if verbose:\n",
    "        print(confusion_matrix(y_test, y_pred))\n",
    "        print(\"acc: %.3f | f1: %.3f | auc: %.3f\" % (acc, f1, roc_auc))"
   ]
  },
  {
   "cell_type": "markdown",
   "metadata": {},
   "source": [
    "### Train & evaluate"
   ]
  },
  {
   "cell_type": "code",
   "execution_count": 15,
   "metadata": {
    "scrolled": true
   },
   "outputs": [
    {
     "name": "stdout",
     "output_type": "stream",
     "text": [
      "Fold 1 / 10\n",
      "Train: size 123854\t balance {0: 2120, 1: 121734}\t weights {0: 29.21, 1: 0.51}\n",
      "Test : size 30964\t balance {0: 530, 1: 30434}\n",
      "Training\n",
      "Train time: 450.6 s\n",
      "Evaluating\n"
     ]
    },
    {
     "name": "stderr",
     "output_type": "stream",
     "text": [
      "/home/mantydze/anaconda3/lib/python3.6/site-packages/sklearn/preprocessing/label.py:151: DeprecationWarning: The truth value of an empty array is ambiguous. Returning False, but in future this will result in an error. Use `array.size > 0` to check that an array is not empty.\n",
      "  if diff:\n"
     ]
    },
    {
     "name": "stdout",
     "output_type": "stream",
     "text": [
      "[[  439    91]\n",
      " [    6 30428]]\n",
      "acc: 0.997 | f1: 0.998 | auc: 0.987\n",
      "\n",
      "Fold 2 / 10\n",
      "Train: size 123854\t balance {0: 2120, 1: 121734}\t weights {0: 29.21, 1: 0.51}\n",
      "Test : size 30964\t balance {0: 530, 1: 30434}\n",
      "Training\n",
      "Train time: 447.8 s\n",
      "Evaluating\n"
     ]
    },
    {
     "name": "stderr",
     "output_type": "stream",
     "text": [
      "/home/mantydze/anaconda3/lib/python3.6/site-packages/sklearn/preprocessing/label.py:151: DeprecationWarning: The truth value of an empty array is ambiguous. Returning False, but in future this will result in an error. Use `array.size > 0` to check that an array is not empty.\n",
      "  if diff:\n"
     ]
    },
    {
     "name": "stdout",
     "output_type": "stream",
     "text": [
      "[[  426   104]\n",
      " [    7 30427]]\n",
      "acc: 0.996 | f1: 0.998 | auc: 0.983\n",
      "\n",
      "Fold 3 / 10\n",
      "Train: size 123854\t balance {0: 2120, 1: 121734}\t weights {0: 29.21, 1: 0.51}\n",
      "Test : size 30964\t balance {0: 530, 1: 30434}\n",
      "Training\n",
      "Train time: 447.5 s\n",
      "Evaluating\n"
     ]
    },
    {
     "name": "stderr",
     "output_type": "stream",
     "text": [
      "/home/mantydze/anaconda3/lib/python3.6/site-packages/sklearn/preprocessing/label.py:151: DeprecationWarning: The truth value of an empty array is ambiguous. Returning False, but in future this will result in an error. Use `array.size > 0` to check that an array is not empty.\n",
      "  if diff:\n"
     ]
    },
    {
     "name": "stdout",
     "output_type": "stream",
     "text": [
      "[[  456    74]\n",
      " [    8 30426]]\n",
      "acc: 0.997 | f1: 0.999 | auc: 0.987\n",
      "\n",
      "Fold 4 / 10\n",
      "Train: size 123854\t balance {0: 2120, 1: 121734}\t weights {0: 29.21, 1: 0.51}\n",
      "Test : size 30964\t balance {0: 530, 1: 30434}\n",
      "Training\n",
      "Train time: 446.0 s\n",
      "Evaluating\n"
     ]
    },
    {
     "name": "stderr",
     "output_type": "stream",
     "text": [
      "/home/mantydze/anaconda3/lib/python3.6/site-packages/sklearn/preprocessing/label.py:151: DeprecationWarning: The truth value of an empty array is ambiguous. Returning False, but in future this will result in an error. Use `array.size > 0` to check that an array is not empty.\n",
      "  if diff:\n"
     ]
    },
    {
     "name": "stdout",
     "output_type": "stream",
     "text": [
      "[[  437    93]\n",
      " [    9 30425]]\n",
      "acc: 0.997 | f1: 0.998 | auc: 0.987\n",
      "\n",
      "Fold 5 / 10\n",
      "Train: size 123854\t balance {0: 2120, 1: 121734}\t weights {0: 29.21, 1: 0.51}\n",
      "Test : size 30964\t balance {0: 530, 1: 30434}\n",
      "Training\n",
      "Train time: 441.5 s\n",
      "Evaluating\n"
     ]
    },
    {
     "name": "stderr",
     "output_type": "stream",
     "text": [
      "/home/mantydze/anaconda3/lib/python3.6/site-packages/sklearn/preprocessing/label.py:151: DeprecationWarning: The truth value of an empty array is ambiguous. Returning False, but in future this will result in an error. Use `array.size > 0` to check that an array is not empty.\n",
      "  if diff:\n"
     ]
    },
    {
     "name": "stdout",
     "output_type": "stream",
     "text": [
      "[[  448    82]\n",
      " [   12 30422]]\n",
      "acc: 0.997 | f1: 0.998 | auc: 0.986\n",
      "\n",
      "Fold 6 / 10\n",
      "Train: size 123854\t balance {0: 2120, 1: 121734}\t weights {0: 29.21, 1: 0.51}\n",
      "Test : size 30964\t balance {0: 530, 1: 30434}\n",
      "Training\n",
      "Train time: 445.0 s\n",
      "Evaluating\n"
     ]
    },
    {
     "name": "stderr",
     "output_type": "stream",
     "text": [
      "/home/mantydze/anaconda3/lib/python3.6/site-packages/sklearn/preprocessing/label.py:151: DeprecationWarning: The truth value of an empty array is ambiguous. Returning False, but in future this will result in an error. Use `array.size > 0` to check that an array is not empty.\n",
      "  if diff:\n"
     ]
    },
    {
     "name": "stdout",
     "output_type": "stream",
     "text": [
      "[[  439    91]\n",
      " [    7 30427]]\n",
      "acc: 0.997 | f1: 0.998 | auc: 0.988\n",
      "\n",
      "Fold 7 / 10\n",
      "Train: size 123854\t balance {0: 2120, 1: 121734}\t weights {0: 29.21, 1: 0.51}\n",
      "Test : size 30964\t balance {0: 530, 1: 30434}\n",
      "Training\n",
      "Train time: 446.8 s\n",
      "Evaluating\n"
     ]
    },
    {
     "name": "stderr",
     "output_type": "stream",
     "text": [
      "/home/mantydze/anaconda3/lib/python3.6/site-packages/sklearn/preprocessing/label.py:151: DeprecationWarning: The truth value of an empty array is ambiguous. Returning False, but in future this will result in an error. Use `array.size > 0` to check that an array is not empty.\n",
      "  if diff:\n"
     ]
    },
    {
     "name": "stdout",
     "output_type": "stream",
     "text": [
      "[[  454    76]\n",
      " [    8 30426]]\n",
      "acc: 0.997 | f1: 0.999 | auc: 0.989\n",
      "\n",
      "Fold 8 / 10\n",
      "Train: size 123854\t balance {0: 2120, 1: 121734}\t weights {0: 29.21, 1: 0.51}\n",
      "Test : size 30964\t balance {0: 530, 1: 30434}\n",
      "Training\n",
      "Train time: 451.5 s\n",
      "Evaluating\n"
     ]
    },
    {
     "name": "stderr",
     "output_type": "stream",
     "text": [
      "/home/mantydze/anaconda3/lib/python3.6/site-packages/sklearn/preprocessing/label.py:151: DeprecationWarning: The truth value of an empty array is ambiguous. Returning False, but in future this will result in an error. Use `array.size > 0` to check that an array is not empty.\n",
      "  if diff:\n"
     ]
    },
    {
     "name": "stdout",
     "output_type": "stream",
     "text": [
      "[[  454    76]\n",
      " [    9 30425]]\n",
      "acc: 0.997 | f1: 0.999 | auc: 0.980\n",
      "\n",
      "Fold 9 / 10\n",
      "Train: size 123854\t balance {0: 2120, 1: 121734}\t weights {0: 29.21, 1: 0.51}\n",
      "Test : size 30964\t balance {0: 530, 1: 30434}\n",
      "Training\n",
      "Train time: 448.8 s\n",
      "Evaluating\n"
     ]
    },
    {
     "name": "stderr",
     "output_type": "stream",
     "text": [
      "/home/mantydze/anaconda3/lib/python3.6/site-packages/sklearn/preprocessing/label.py:151: DeprecationWarning: The truth value of an empty array is ambiguous. Returning False, but in future this will result in an error. Use `array.size > 0` to check that an array is not empty.\n",
      "  if diff:\n"
     ]
    },
    {
     "name": "stdout",
     "output_type": "stream",
     "text": [
      "[[  445    85]\n",
      " [    5 30429]]\n",
      "acc: 0.997 | f1: 0.999 | auc: 0.985\n",
      "\n",
      "Fold 10 / 10\n",
      "Train: size 123854\t balance {0: 2120, 1: 121734}\t weights {0: 29.21, 1: 0.51}\n",
      "Test : size 30964\t balance {0: 530, 1: 30434}\n",
      "Training\n",
      "Train time: 449.1 s\n",
      "Evaluating\n"
     ]
    },
    {
     "name": "stderr",
     "output_type": "stream",
     "text": [
      "/home/mantydze/anaconda3/lib/python3.6/site-packages/sklearn/preprocessing/label.py:151: DeprecationWarning: The truth value of an empty array is ambiguous. Returning False, but in future this will result in an error. Use `array.size > 0` to check that an array is not empty.\n",
      "  if diff:\n"
     ]
    },
    {
     "name": "stdout",
     "output_type": "stream",
     "text": [
      "[[  439    91]\n",
      " [    7 30427]]\n",
      "acc: 0.997 | f1: 0.998 | auc: 0.987\n",
      "\n",
      "CPU times: user 9h 46min 17s, sys: 2min 6s, total: 9h 48min 23s\n",
      "Wall time: 1h 16min 6s\n"
     ]
    }
   ],
   "source": [
    "%%time\n",
    "n_splits = 10\n",
    "\n",
    "accs = []\n",
    "f1s = []\n",
    "\n",
    "fprs = []\n",
    "tprs = []\n",
    "aucs = []\n",
    "secs = []\n",
    "\n",
    "skf = StratifiedShuffleSplit(n_splits=n_splits, test_size=0.2)\n",
    "\n",
    "for index, (train_indices, test_indices) in enumerate(skf.split(X, y)):\n",
    "    print(\"Fold %d / %d\" % ((index + 1), n_splits))\n",
    "    \n",
    "    # Generate batches from indices\n",
    "    X_train, X_test = X[train_indices], X[test_indices]\n",
    "    y_train, y_test = y[train_indices], y[test_indices]\n",
    "    \n",
    "    print_split_info(X_train, y_train, X_test, y_test)\n",
    "    \n",
    "    model = train(X_train, y_train)\n",
    "    \n",
    "    evaluate(model, X_test, y_test)\n",
    "    \n",
    "    model = None # Release memory\n",
    "    print()\n",
    "    "
   ]
  },
  {
   "cell_type": "markdown",
   "metadata": {},
   "source": [
    "### Aggregate scores"
   ]
  },
  {
   "cell_type": "code",
   "execution_count": 16,
   "metadata": {
    "scrolled": false
   },
   "outputs": [],
   "source": [
    "d = dict(acc=np.array(accs), f1=np.array(f1s), auc=np.array(aucs), sec=np.array(secs))\n",
    "scores = pd.DataFrame.from_dict(d, orient=\"index\")\n",
    "scores[\"mean\"] = scores.mean(axis=1)\n",
    "scores[\"std\"] = scores.std(axis=1)"
   ]
  },
  {
   "cell_type": "code",
   "execution_count": 17,
   "metadata": {
    "scrolled": false
   },
   "outputs": [
    {
     "name": "stdout",
     "output_type": "stream",
     "text": [
      "           acc        f1       auc         sec\n",
      "0     0.996867  0.998409  0.987211  450.589369\n",
      "1     0.996415  0.998179  0.983454  447.809089\n",
      "2     0.997352  0.998654  0.986513  447.516517\n",
      "3     0.996706  0.998327  0.987310  445.978274\n",
      "4     0.996964  0.998457  0.985643  441.531118\n",
      "5     0.996835  0.998392  0.988440  445.019477\n",
      "6     0.997287  0.998622  0.988994  446.754115\n",
      "7     0.997255  0.998605  0.979769  451.461411\n",
      "8     0.997093  0.998523  0.985139  448.785406\n",
      "9     0.996835  0.998392  0.986941  449.102050\n",
      "mean  0.996961  0.998456  0.985941  447.454683\n",
      "std   0.000277  0.000140  0.002557    2.723667\n"
     ]
    }
   ],
   "source": [
    "print(scores.transpose())"
   ]
  },
  {
   "cell_type": "markdown",
   "metadata": {},
   "source": [
    "### Plot ROC AUC"
   ]
  },
  {
   "cell_type": "code",
   "execution_count": 18,
   "metadata": {
    "scrolled": false
   },
   "outputs": [
    {
     "name": "stderr",
     "output_type": "stream",
     "text": [
      "/home/mantydze/anaconda3/lib/python3.6/site-packages/matplotlib/cbook/__init__.py:2446: UserWarning: Saw kwargs ['lw', 'linewidth'] which are all aliases for 'linewidth'.  Kept value from 'linewidth'\n",
      "  seen=seen, canon=canonical, used=seen[-1]))\n"
     ]
    },
    {
     "data": {
      "image/png": "[encoded data removed]",
      "text/plain": [
       "<Figure size 720x720 with 1 Axes>"
      ]
     },
     "metadata": {},
     "output_type": "display_data"
    }
   ],
   "source": [
    "plt.figure(figsize=(10,10))\n",
    "\n",
    "for i, (fpr, tpr) in enumerate(zip(fprs, tprs)):\n",
    "    plt.plot(fpr, tpr, label=\"Fold %d (auc: %.3f)\" % ((i+1), aucs[i]), alpha=0.4)\n",
    "\n",
    "tprs2 = []\n",
    "\n",
    "mean_fpr = np.linspace(0, 1, 100)\n",
    "\n",
    "for fpr, tpr in zip(fprs, tprs):\n",
    "    tprs2.append(interp(mean_fpr, fpr, tpr))\n",
    "    \n",
    "mean_tpr = np.mean(tprs2, axis=0)\n",
    "mean_tpr[-1] = 1.0\n",
    "mean_auc = auc(mean_fpr, mean_tpr)\n",
    "std_auc = np.std(aucs)\n",
    "plt.plot(mean_fpr, mean_tpr, \n",
    "         color=\"b\",\n",
    "         linestyle=\":\",\n",
    "         linewidth=4,\n",
    "         label=r\"Mean ROC (AUC = %0.3f $\\pm$ %0.3f)\" % (mean_auc, std_auc),\n",
    "         lw=2, alpha=.9)\n",
    "\n",
    "plt.plot([0, 1], [0, 1], linestyle='--', lw=2, color='r', alpha=.5)\n",
    "\n",
    "plt.xlim([-0.05, 1.05])\n",
    "plt.ylim([-0.05, 1.05])\n",
    "plt.xlabel('False Positive Rate')\n",
    "plt.ylabel('True Positive Rate')\n",
    "plt.title('Receiver operating characteristic')\n",
    "plt.legend(loc=\"lower right\")\n",
    "plt.show()"
   ]
  },
  {
   "cell_type": "markdown",
   "metadata": {},
   "source": [
    "### Train and save model"
   ]
  },
  {
   "cell_type": "code",
   "execution_count": 19,
   "metadata": {
    "scrolled": false
   },
   "outputs": [],
   "source": [
    "X_train = X_test = y_train = y_test = None # Release memory\n",
    "X_train, X_test, y_train, y_test = train_test_split(X, y, test_size=0.2, random_state=42)"
   ]
  },
  {
   "cell_type": "code",
   "execution_count": 20,
   "metadata": {
    "scrolled": false
   },
   "outputs": [
    {
     "name": "stdout",
     "output_type": "stream",
     "text": [
      "Training\n",
      "Train time: 447.4 s\n"
     ]
    }
   ],
   "source": [
    "model = train(X_train, y_train)"
   ]
  },
  {
   "cell_type": "code",
   "execution_count": 21,
   "metadata": {
    "scrolled": false
   },
   "outputs": [
    {
     "name": "stdout",
     "output_type": "stream",
     "text": [
      "Evaluating\n"
     ]
    },
    {
     "name": "stderr",
     "output_type": "stream",
     "text": [
      "/home/mantydze/anaconda3/lib/python3.6/site-packages/sklearn/preprocessing/label.py:151: DeprecationWarning: The truth value of an empty array is ambiguous. Returning False, but in future this will result in an error. Use `array.size > 0` to check that an array is not empty.\n",
      "  if diff:\n"
     ]
    },
    {
     "name": "stdout",
     "output_type": "stream",
     "text": [
      "[[  430   102]\n",
      " [    6 30426]]\n",
      "acc: 0.997 | f1: 0.998 | auc: 0.987\n"
     ]
    }
   ],
   "source": [
    "evaluate(model, X_test, y_test)"
   ]
  },
  {
   "cell_type": "markdown",
   "metadata": {},
   "source": [
    "### Save"
   ]
  },
  {
   "cell_type": "code",
   "execution_count": 22,
   "metadata": {
    "scrolled": false
   },
   "outputs": [],
   "source": [
    "# Model\n",
    "joblib.dump(model, \"model.dat\")\n",
    "\n",
    "# Scores (acc, f1, auc)\n",
    "with open(\"scores.json\", \"w\") as outfile:\n",
    "    data = scores.to_dict()\n",
    "    json.dump(data, outfile, indent=4)\n",
    "\n",
    "# Mean TPR, FPR, AUC, AUC STD\n",
    "with open(\"roc.json\", \"w\") as outfile:\n",
    "    data = {\n",
    "        \"fpr\": mean_fpr.tolist(), \n",
    "        \"tpr\":mean_tpr.tolist(), \n",
    "        \"auc\": mean_auc, \n",
    "        \"std\": std_auc\n",
    "    }\n",
    "    json.dump(data, outfile, indent=4)"
   ]
  },
  {
   "cell_type": "code",
   "execution_count": null,
   "metadata": {},
   "outputs": [],
   "source": []
  }
 ],
 "metadata": {
  "kernelspec": {
   "display_name": "Python 3",
   "language": "python",
   "name": "python3"
  },
  "language_info": {
   "codemirror_mode": {
    "name": "ipython",
    "version": 3
   },
   "file_extension": ".py",
   "mimetype": "text/x-python",
   "name": "python",
   "nbconvert_exporter": "python",
   "pygments_lexer": "ipython3",
   "version": "3.6.5"
  }
 },
 "nbformat": 4,
 "nbformat_minor": 2
}
